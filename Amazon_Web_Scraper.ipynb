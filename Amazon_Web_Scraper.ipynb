{
 "cells": [
  {
   "cell_type": "code",
   "execution_count": 5,
   "metadata": {},
   "outputs": [],
   "source": [
    "# import libraries\n",
    "\n",
    "from bs4 import BeautifulSoup\n",
    "import requests\n",
    "import time\n",
    "import datetime\n",
    "import csv\n",
    "import smtplib"
   ]
  },
  {
   "cell_type": "code",
   "execution_count": 213,
   "metadata": {},
   "outputs": [],
   "source": [
    "# Connect to Website\n",
    "\n",
    "URL = 'https://www.amazon.ca/s?k=funny+data+analyst&__mk_fr_CA=%C3%85M%C3%85%C5%BD%C3%95%C3%91&ref=nb_sb_noss'\n",
    "\n",
    "headers = {\"User-Agent\": \"Mozilla/5.0 (Windows NT 10.0; Win64; x64) AppleWebKit/537.36 (KHTML, like Gecko) Chrome/94.0.4606.61 Safari/537.36\", \"Accept-Encoding\": \"gzip, deflate, br\", \"Accept\": \"text/html,application/xhtml+xml,application/xml;q=0.9,image/avif,image/webp,image/apng,*/*;q=0.8,application/signed-exchange;v=b3;q=0.9\", \"Dnt\": \"1\", \"Connection\": \"close\", \"Upgrade-Insecure-Requests\": \"1\"}\n",
    "\n",
    "page = requests.get(URL, headers=headers)\n",
    "\n",
    "soup1 = BeautifulSoup(page.content, \"html.parser\")\n",
    "soup2 = soup1.select(\"div[data-asin]\")\n",
    "\n",
    "titles = []\n",
    "prices = []\n",
    "\n",
    "for element in soup2:\n",
    "    title = element.find(\"span\", class_=\"a-size-base-plus a-color-base a-text-normal\")\n",
    "    price = element.find(\"span\", class_=\"a-price\")\n",
    "    \n",
    "    if not title:\n",
    "        title = \"Nothing\"\n",
    "    else:\n",
    "        title = title.text\n",
    "        \n",
    "    if not price:\n",
    "        price = \"Nothing\"\n",
    "    else:\n",
    "        price = price.text\n",
    "   \n",
    "    titles.append(title)\n",
    "    prices.append(price[:int(len(price)/2)])\n",
    "        \n",
    "\n",
    "\n",
    "\n",
    "\n",
    "\n",
    "\n",
    "\n"
   ]
  },
  {
   "cell_type": "code",
   "execution_count": 214,
   "metadata": {},
   "outputs": [
    {
     "name": "stdout",
     "output_type": "stream",
     "text": [
      "2021-10-01\n",
      "[datetime.date(2021, 10, 1), datetime.date(2021, 10, 1), datetime.date(2021, 10, 1), datetime.date(2021, 10, 1), datetime.date(2021, 10, 1), datetime.date(2021, 10, 1), datetime.date(2021, 10, 1), datetime.date(2021, 10, 1), datetime.date(2021, 10, 1), datetime.date(2021, 10, 1), datetime.date(2021, 10, 1), datetime.date(2021, 10, 1), datetime.date(2021, 10, 1), datetime.date(2021, 10, 1), datetime.date(2021, 10, 1), datetime.date(2021, 10, 1), datetime.date(2021, 10, 1), datetime.date(2021, 10, 1), datetime.date(2021, 10, 1), datetime.date(2021, 10, 1), datetime.date(2021, 10, 1), datetime.date(2021, 10, 1), datetime.date(2021, 10, 1), datetime.date(2021, 10, 1), datetime.date(2021, 10, 1), datetime.date(2021, 10, 1), datetime.date(2021, 10, 1), datetime.date(2021, 10, 1), datetime.date(2021, 10, 1), datetime.date(2021, 10, 1), datetime.date(2021, 10, 1), datetime.date(2021, 10, 1), datetime.date(2021, 10, 1), datetime.date(2021, 10, 1), datetime.date(2021, 10, 1), datetime.date(2021, 10, 1), datetime.date(2021, 10, 1), datetime.date(2021, 10, 1), datetime.date(2021, 10, 1), datetime.date(2021, 10, 1), datetime.date(2021, 10, 1), datetime.date(2021, 10, 1), datetime.date(2021, 10, 1), datetime.date(2021, 10, 1), datetime.date(2021, 10, 1), datetime.date(2021, 10, 1), datetime.date(2021, 10, 1), datetime.date(2021, 10, 1), datetime.date(2021, 10, 1), datetime.date(2021, 10, 1), datetime.date(2021, 10, 1), datetime.date(2021, 10, 1), datetime.date(2021, 10, 1), datetime.date(2021, 10, 1), datetime.date(2021, 10, 1), datetime.date(2021, 10, 1), datetime.date(2021, 10, 1), datetime.date(2021, 10, 1), datetime.date(2021, 10, 1), datetime.date(2021, 10, 1), datetime.date(2021, 10, 1)]\n"
     ]
    }
   ],
   "source": [
    "import datetime\n",
    "\n",
    "today = datetime.date.today()\n",
    "print(today)\n",
    "\n",
    "len_column = len(titles)\n",
    "dates = [today]*len_column\n",
    "print(dates)"
   ]
  },
  {
   "cell_type": "code",
   "execution_count": 215,
   "metadata": {},
   "outputs": [],
   "source": [
    "# create the file\n",
    "import csv\n",
    "\n",
    "header = ['Title', 'Price', 'Date Scraped']\n",
    "rows = zip(titles, prices, dates)\n",
    "\n",
    "# with open('Amazon_Web_Scraper_Dataset.csv', 'w', newline='', encoding='UTF8') as f:\n",
    "#     writer = csv.writer(f)\n",
    "#     writer.writerow(header)\n",
    "#     for row in rows:\n",
    "#         writer.writerow(row)\n"
   ]
  },
  {
   "cell_type": "code",
   "execution_count": 216,
   "metadata": {},
   "outputs": [
    {
     "name": "stdout",
     "output_type": "stream",
     "text": [
      "                                                Title    Price Date Scraped\n",
      "0                                             Nothing      Not   2021-10-01\n",
      "1                         Big Data Science in Finance  $108.38   2021-10-01\n",
      "2   Data Analyst Powered by Coffee: Christmas Gift...   $10.46   2021-10-01\n",
      "3   Data Analyst Be A Unicorn Coffee Mug - Data An...   $23.13   2021-10-01\n",
      "4   Funny Data Analyst Gifts: Unique Data Analyst ...    $9.27   2021-10-01\n",
      "..                                                ...      ...          ...\n",
      "56  Computer Programming for Beginners: Learn How ...   $22.76   2021-10-01\n",
      "57  Data Analytics: An Essential Beginner’s Guide ...    $3.72   2021-10-01\n",
      "58  Coloring Books For Adults Volume 5: 40 Stress ...   $11.97   2021-10-01\n",
      "59                                            Nothing      Not   2021-10-01\n",
      "60                                            Nothing      Not   2021-10-01\n",
      "\n",
      "[61 rows x 3 columns]\n"
     ]
    }
   ],
   "source": [
    "import pandas as pd\n",
    "\n",
    "df = pd.read_csv(r\"C:\\Users\\Alex\\Amazon_Web_Scraper_Dataset.csv\")\n",
    "print(df)"
   ]
  },
  {
   "cell_type": "code",
   "execution_count": null,
   "metadata": {},
   "outputs": [],
   "source": [
    "# append the file\n",
    "\n",
    "with open('Amazon_Web_Scraper_Dataset.csv', 'a+', newline='', encoding='UTF8') as f:\n",
    "    writer = csv.writer(f)\n",
    "    for row in rows:\n",
    "        writer.writerow(row)"
   ]
  },
  {
   "cell_type": "code",
   "execution_count": null,
   "metadata": {},
   "outputs": [],
   "source": [
    "from bs4 import BeautifulSoup\n",
    "    import requests\n",
    "    import time\n",
    "    import datetime\n",
    "    import csv\n",
    "    import smtplib\n",
    "\n",
    "def check_price(): \n",
    "    \n",
    "    \n",
    "    URL = 'https://www.amazon.ca/s?k=funny+data+analyst&__mk_fr_CA=%C3%85M%C3%85%C5%BD%C3%95%C3%91&ref=nb_sb_noss'\n",
    "\n",
    "    headers = {\"User-Agent\": \"Mozilla/5.0 (Windows NT 10.0; Win64; x64) AppleWebKit/537.36 (KHTML, like Gecko) Chrome/94.0.4606.61 Safari/537.36\", \"Accept-Encoding\": \"gzip, deflate, br\", \"Accept\": \"text/html,application/xhtml+xml,application/xml;q=0.9,image/avif,image/webp,image/apng,*/*;q=0.8,application/signed-exchange;v=b3;q=0.9\", \"Dnt\": \"1\", \"Connection\": \"close\", \"Upgrade-Insecure-Requests\": \"1\"}\n",
    "\n",
    "    page = requests.get(URL, headers=headers)\n",
    "\n",
    "    soup1 = BeautifulSoup(page.content, \"html.parser\")\n",
    "    soup2 = soup1.select(\"div[data-asin]\")\n",
    "\n",
    "    titles = []\n",
    "    prices = []\n",
    "\n",
    "    for element in soup2:\n",
    "        title = element.find(\"span\", class_=\"a-size-base-plus a-color-base a-text-normal\")\n",
    "        price = element.find(\"span\", class_=\"a-price\")\n",
    "\n",
    "        if not title:\n",
    "            title = \"Nothing\"\n",
    "        else:\n",
    "            title = title.text\n",
    "\n",
    "        if not price:\n",
    "            price = \"Nothing\"\n",
    "        else:\n",
    "            price = price.text\n",
    "\n",
    "        titles.append(title)\n",
    "        prices.append(price[:int(len(price)/2)])\n",
    "    \n",
    "    \n",
    "\n",
    "    today = datetime.date.today()\n",
    "    len_column = len(titles)\n",
    "    dates = [today]*len_column\n",
    "    \n",
    "\n",
    "\n",
    "    header = ['Title', 'Price', 'Date Scraped']\n",
    "    rows = zip(titles, prices, dates)\n",
    "    \n",
    "    with open('Amazon_Web_Scraper_Dataset.csv', 'a+', newline='', encoding='UTF8') as f:\n",
    "        writer = csv.writer(f)\n",
    "        for row in rows:\n",
    "            writer.writerow(row)\n"
   ]
  },
  {
   "cell_type": "code",
   "execution_count": null,
   "metadata": {},
   "outputs": [],
   "source": [
    "# Scrapes data every day\n",
    "\n",
    "while(True):\n",
    "    check_price()\n",
    "    time.sleep(86400)\n",
    "    "
   ]
  },
  {
   "cell_type": "code",
   "execution_count": 221,
   "metadata": {},
   "outputs": [
    {
     "name": "stdout",
     "output_type": "stream",
     "text": [
      "                                                 Title    Price Date Scraped\n",
      "0                                              Nothing      Not   2021-10-01\n",
      "1                          Big Data Science in Finance  $108.38   2021-10-01\n",
      "2    Data Analyst Powered by Coffee: Christmas Gift...   $10.46   2021-10-01\n",
      "3    Data Analyst Be A Unicorn Coffee Mug - Data An...   $23.13   2021-10-01\n",
      "4    Funny Data Analyst Gifts: Unique Data Analyst ...    $9.27   2021-10-01\n",
      "..                                                 ...      ...          ...\n",
      "239  Computer Programming for Beginners: Learn How ...   $22.76   2021-10-01\n",
      "240  Data Analytics: An Essential Beginner’s Guide ...    $3.72   2021-10-01\n",
      "241  Coloring Books For Adults Volume 5: 40 Stress ...   $11.97   2021-10-01\n",
      "242                                            Nothing      Not   2021-10-01\n",
      "243                                            Nothing      Not   2021-10-01\n",
      "\n",
      "[244 rows x 3 columns]\n"
     ]
    }
   ],
   "source": [
    "df = pd.read_csv(r\"C:\\Users\\Alex\\Amazon_Web_Scraper_Dataset.csv\")\n",
    "print(df)"
   ]
  },
  {
   "cell_type": "code",
   "execution_count": null,
   "metadata": {},
   "outputs": [],
   "source": []
  }
 ],
 "metadata": {
  "kernelspec": {
   "display_name": "Python 3",
   "language": "python",
   "name": "python3"
  },
  "language_info": {
   "codemirror_mode": {
    "name": "ipython",
    "version": 3
   },
   "file_extension": ".py",
   "mimetype": "text/x-python",
   "name": "python",
   "nbconvert_exporter": "python",
   "pygments_lexer": "ipython3",
   "version": "3.8.5"
  }
 },
 "nbformat": 4,
 "nbformat_minor": 4
}
